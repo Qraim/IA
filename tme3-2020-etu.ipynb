{
 "cells": [
  {
   "cell_type": "markdown",
   "metadata": {},
   "source": [
    "# Apprentissage de paramètres par maximum de vraisemblance\n",
    "Dans ce TME, l'objectif est d'apprendre grâce à l'estimateur de maximum de vraisemblance les paramètres de lois normales à partir d'un ensemble de données. Ces lois normales seront ensuite exploitées pour faire de la classification (comme nous l'avions vu en cours avec les images de désert, forêt, mer et paysages enneigés).\n",
    "\n",
    "Ici, notre base de données d'apprentissage est la base USPS. Celle-ci contient les images réelles de chiffres provenant de codes postaux écrits manuellement et scannés par le service des postes américain. Ces données scannées ont été normalisées de manière à ce qu'elles soient toutes des images de 16x16 pixels en teintes de gris, cf. Le Cun et al., 1990:\n",
    "\n",
    "Y. LeCun, O. Matan, B. Boser, J. S. Denker, et al. (1990) *Handwritten zip code recognition with multilayer networks*. In ICPR, volume II, pages 35–40.\n",
    "\n",
    "Voici quelques exemples d'images de cette base : \n",
    "\n",
    "<img src=\"usps.png\" title=\"Quelques exemples\">\n"
   ]
  },
  {
   "cell_type": "code",
   "execution_count": 1,
   "metadata": {
    "ExecuteTime": {
     "end_time": "2024-03-25T15:22:29.698712Z",
     "start_time": "2024-03-25T15:22:29.186455Z"
    }
   },
   "outputs": [],
   "source": [
    "import numpy as np\n",
    "import matplotlib.pyplot as plt\n",
    "import pickle as pkl"
   ]
  },
  {
   "cell_type": "markdown",
   "metadata": {},
   "source": [
    "## Chargement des données et premières visualisations\n",
    "\n",
    "Nous utiliserons la librairie pickle qui permet de sérialiser les objets en python (ie, les sauver et les charger très facilement).\n",
    "Une fois les données chargées, nous allons étudier très rapidement la distribution des classes, visualiser une imagette de chiffre et comprendre l'encodage de ces chiffres."
   ]
  },
  {
   "cell_type": "code",
   "execution_count": 2,
   "metadata": {
    "ExecuteTime": {
     "end_time": "2024-03-25T15:22:29.962176Z",
     "start_time": "2024-03-25T15:22:29.700659Z"
    }
   },
   "outputs": [
    {
     "data": {
      "text/plain": "(array([488., 412., 311., 260., 306., 244., 261., 282., 224., 281.]),\n array([-0.5,  0.5,  1.5,  2.5,  3.5,  4.5,  5.5,  6.5,  7.5,  8.5,  9.5]),\n <BarContainer object of 10 artists>)"
     },
     "execution_count": 2,
     "metadata": {},
     "output_type": "execute_result"
    },
    {
     "data": {
      "text/plain": "<Figure size 640x480 with 1 Axes>",
      "image/png": "[encoded data removed]"
     },
     "metadata": {},
     "output_type": "display_data"
    }
   ],
   "source": [
    "# Chargement des données\n",
    "data = pkl.load(open(\"usps.pkl\",'rb')) \n",
    "# data est un dictionnaire contenant les champs explicites X_train, X_test, Y_train, Y_test\n",
    "X_train = np.array(data[\"X_train\"],dtype=float) # changement de type pour éviter les problèmes d'affichage\n",
    "X_test = np.array(data[\"X_test\"],dtype=float)\n",
    "Y_train = data[\"Y_train\"]\n",
    "Y_test = data[\"Y_test\"]\n",
    "\n",
    "# visualisation de la distribution des étiquettes (dans les 10 classes de chiffres)\n",
    "plt.figure()\n",
    "plt.hist(Y_train, np.linspace(-0.5,9.5,11))\n",
    "plt.hist(Y_test, np.linspace(-0.5,9.5,11))\n",
    "#plt.savefig(\"distr_classes.png\")"
   ]
  },
  {
   "cell_type": "code",
   "execution_count": 3,
   "metadata": {
    "ExecuteTime": {
     "end_time": "2024-03-25T15:22:30.261836Z",
     "start_time": "2024-03-25T15:22:29.986612Z"
    }
   },
   "outputs": [
    {
     "name": "stdout",
     "output_type": "stream",
     "text": [
      "(6229, 256)\n",
      "(3069, 256) (6229,) (3069,)\n"
     ]
    },
    {
     "data": {
      "text/plain": "Text(0.5, 1.0, 'Image de : 6')"
     },
     "execution_count": 3,
     "metadata": {},
     "output_type": "execute_result"
    },
    {
     "data": {
      "text/plain": "<Figure size 640x480 with 1 Axes>",
      "image/png": "[encoded data removed]"
     },
     "metadata": {},
     "output_type": "display_data"
    }
   ],
   "source": [
    "# prise en main des matrices X, Y\n",
    "print(X_train.shape)\n",
    "# 6229 images composées de 256 pixels (image = 16x16)\n",
    "print(X_test.shape,Y_train.shape, Y_test.shape)\n",
    "\n",
    "# Affichage de l'image 18 de la base de données et récupération de l'étiquette associée:\n",
    "# (1) remise en forme de la ligne de 256 pixels en 16x16\n",
    "# (2) affichage avec imshow (en niveaux de gris)\n",
    "# (3) récupération de l'étiquette dans Y_train\n",
    "\n",
    "plt.figure()\n",
    "plt.imshow(X_train[18].reshape(16,16),cmap=\"gray\")\n",
    "plt.title(\"Image de : {}\".format(Y_train[18]))"
   ]
  },
  {
   "cell_type": "code",
   "execution_count": 4,
   "metadata": {
    "ExecuteTime": {
     "end_time": "2024-03-25T15:22:30.414952Z",
     "start_time": "2024-03-25T15:22:30.276711Z"
    }
   },
   "outputs": [
    {
     "name": "stdout",
     "output_type": "stream",
     "text": [
      "0.0 2.0\n",
      "niveaux de gris :  2001\n"
     ]
    }
   ],
   "source": [
    "# analyse des valeurs min et max, recherche du nombre de niveaux de gris dans les images:\n",
    "print(X_train.min(),X_train.max() )\n",
    "print(\"niveaux de gris : \", len(np.unique(X_train))) "
   ]
  },
  {
   "cell_type": "markdown",
   "metadata": {},
   "source": [
    "# A. Apprentissage et évaluation d'un modèle gaussien naïf\n",
    "\n",
    "## A1- Maximum de vraisemblance \n",
    "\n",
    "Nous allons étudier la distribution de probabilité des teintes de gris des images (en fait, nous allons étudier sa fonction de densité car on travaille sur des variables aléatoires continues) . Nous allons faire l'hypothèse (certes un peu forte mais tellement pratique) que, dans chaque classe, les teintes des pixels sont mutuellement indépendantes. \n",
    "\n",
    "Autrement dit, si $X_i, i\\in \\{0,...,255\\}$ représente la variable aléatoire \"intensité de gris du ième pixel\", alors $p(X_0,…,X_{255})$ représente la fonction de densité des teintes de gris des images de la classe et: \n",
    "\n",
    "$$p(X_0,,…,X_{255})=\\prod_{i=0}^{255} p(X_i)$$\n",
    "\n",
    "Ainsi, en choisissant au hasard une image dans l'ensemble de toutes les images possibles de la classe, si celle-ci correspond au tableau `np.array([x_0,...,x_255])`, où les $x_i$ sont des nombres réels compris entre 0 et 2, alors la valeur de la fonction de densité de l'image est égale à $p(x_0,...,x_{255}) = \\prod^{255}_{i=0}p(x_i)$. \n",
    "\n",
    "Nous allons de plus supposer que chaque $X_i$ suit une distribution normale de paramètres $(μ_i,σ^2_i)$. Autrement dit, $$\\forall i\\in\\{0,...,255\\}, X_i \\sim {\\cal N}(μ_i,σ^2_i)$$ \n",
    "\n",
    "Par maximum de vraisemblance, estimez, pour une classe donnée, l'ensemble des paramètres $(μ_0,…,μ_{255})$ et $(σ^2_0,…,σ^2_{255})$ pour chaque classe (chiffre de 0 à 9). Pour cela, écrivez une fonction `learnML_parameters : float np.array x float np.array -> float np.array x float np.array` qui, étant donné le tableau d'images , renvoie un couple de tableaux, le premier élément du couple correspondant à l'ensemble des $μ_i$ et le 2ème à l'ensemble des $σ^2_i$. C'est-à-dire que `learnML_parameters` renverra deux matrices:\n",
    "$$ mu \\in \\mathbb R^{10 \\times 256}, sig \\in \\mathbb R^{10 \\times 256}$$\n",
    "\n",
    "* mu contient les moyennes des 256 pixels pour les 10 classes\n",
    "* std contient les écarts-types des 256 pixels pour les 10 classes\n",
    "\n"
   ]
  },
  {
   "cell_type": "code",
   "execution_count": 5,
   "metadata": {
    "collapsed": false,
    "ExecuteTime": {
     "end_time": "2024-03-25T15:22:30.432166Z",
     "start_time": "2024-03-25T15:22:30.418512Z"
    }
   },
   "outputs": [],
   "source": [
    "def learnML_parameters(X, Y):\n",
    "    \n",
    "    mu = np.zeros((10, X.shape[1]))\n",
    "    sig = np.zeros((10, X.shape[1]))\n",
    "\n",
    "    for c in range(10):\n",
    "        # Sélection des images de la classe c dans X\n",
    "        X_c = X[Y == c]\n",
    "        \n",
    "        # Calcul de la moyenne\n",
    "        mu[c] = np.mean(X_c, axis=0)\n",
    "        \n",
    "        # Calcul de la variance\n",
    "        sig[c] = np.std(X_c, axis=0)\n",
    "        \n",
    "    return mu, sig\n"
   ]
  },
  {
   "cell_type": "code",
   "execution_count": 6,
   "metadata": {
    "ExecuteTime": {
     "end_time": "2024-03-25T15:22:30.459750Z",
     "start_time": "2024-03-25T15:22:30.434001Z"
    }
   },
   "outputs": [
    {
     "name": "stdout",
     "output_type": "stream",
     "text": [
      "(10, 256) (10, 256)\n"
     ]
    }
   ],
   "source": [
    "mu,sig = learnML_parameters ( X_train, Y_train )\n",
    "print(mu.shape, sig.shape) # doit donner (10, 256) (10, 256)"
   ]
  },
  {
   "cell_type": "markdown",
   "metadata": {},
   "source": [
    "Check: pour la classe 0, les paramètres doivent être les suivants\n",
    "```\n",
    "mu[0]=\n",
    "[1.53774208e-03 4.46785940e-03 1.71216078e-02 6.31194048e-02\n",
    " 1.84061642e-01 4.71391665e-01 8.97640989e-01 1.15019928e+00\n",
    " ...\n",
    " 1.42675380e+00 1.03130694e+00 5.32240296e-01 1.74166387e-01\n",
    " 3.57644515e-02 5.52804884e-03 4.36592998e-04 0.00000000e+00]\n",
    "sig[0]=\n",
    "[5.01596286e-02 7.93695089e-02 1.46489017e-01 2.65522337e-01\n",
    " 4.42306204e-01 6.35148001e-01 7.40462105e-01 7.48387032e-01\n",
    " ...\n",
    " 6.62741331e-01 6.75677391e-01 5.86224763e-01 3.56460503e-01\n",
    " 1.71512333e-01 5.67475697e-02 1.20193571e-02 0.00000000e+00]\n",
    "```"
   ]
  },
  {
   "cell_type": "code",
   "execution_count": 7,
   "metadata": {
    "ExecuteTime": {
     "end_time": "2024-03-25T15:22:30.471027Z",
     "start_time": "2024-03-25T15:22:30.462095Z"
    }
   },
   "outputs": [
    {
     "name": "stdout",
     "output_type": "stream",
     "text": [
      "[1.53774208e-03 4.46785940e-03 1.71216078e-02 6.31194048e-02\n",
      " 1.84061642e-01 4.71391665e-01 8.97640989e-01 1.15019928e+00\n",
      " 1.02070900e+00 6.16785408e-01 2.50766353e-01 8.09903122e-02\n",
      " 1.49310824e-02 3.87033274e-03 1.70898437e-04 0.00000000e+00\n",
      " 2.35601434e-03 7.93762565e-03 5.18573940e-02 2.00940178e-01\n",
      " 5.59411980e-01 1.10202446e+00 1.53532559e+00 1.66378367e+00\n",
      " 1.60174400e+00 1.37845195e+00 9.19353768e-01 4.15479248e-01\n",
      " 1.22346858e-01 3.01527050e-02 4.24372534e-03 5.63428995e-06\n",
      " 5.88210737e-03 3.00679919e-02 1.45009354e-01 4.68428296e-01\n",
      " 9.87103163e-01 1.46020945e+00 1.63103905e+00 1.59445846e+00\n",
      " 1.52785712e+00 1.52155705e+00 1.36630499e+00 9.33882722e-01\n",
      " 4.29464169e-01 1.16865928e-01 2.02650169e-02 1.02089895e-03\n",
      " 7.91202062e-03 6.88018163e-02 3.30783411e-01 8.24194929e-01\n",
      " 1.31254975e+00 1.54256605e+00 1.44943446e+00 1.21191395e+00\n",
      " 1.09220056e+00 1.22655949e+00 1.39070742e+00 1.27821441e+00\n",
      " 8.46682745e-01 3.48925595e-01 8.07226924e-02 4.64439750e-03\n",
      " 1.59532081e-02 1.76675445e-01 6.07781794e-01 1.12757141e+00\n",
      " 1.46523519e+00 1.45472469e+00 1.13856317e+00 8.10338934e-01\n",
      " 6.26168286e-01 7.76955398e-01 1.10779727e+00 1.32851374e+00\n",
      " 1.16676063e+00 6.86548686e-01 2.41357803e-01 2.81289553e-02\n",
      " 4.81442913e-02 3.73752078e-01 8.81483647e-01 1.31949916e+00\n",
      " 1.46700523e+00 1.23718114e+00 8.16962582e-01 4.43474916e-01\n",
      " 2.80405642e-01 4.08021647e-01 7.81619032e-01 1.17122113e+00\n",
      " 1.27515733e+00 9.72332353e-01 4.74029267e-01 8.55221959e-02\n",
      " 1.30783142e-01 5.93982138e-01 1.07686306e+00 1.39894059e+00\n",
      " 1.36844099e+00 9.74245539e-01 5.33412071e-01 2.15832907e-01\n",
      " 1.06282689e-01 1.88639261e-01 5.18731675e-01 9.65949319e-01\n",
      " 1.24726249e+00 1.12132596e+00 6.89466858e-01 1.96154590e-01\n",
      " 2.50674651e-01 7.61315399e-01 1.19695898e+00 1.38864862e+00\n",
      " 1.19971341e+00 7.48517123e-01 3.30572606e-01 9.84733976e-02\n",
      " 4.29241342e-02 1.03367730e-01 3.87229277e-01 8.44056198e-01\n",
      " 1.20012881e+00 1.18425086e+00 8.20222630e-01 3.08674699e-01\n",
      " 3.58261634e-01 8.62190202e-01 1.25563738e+00 1.34673373e+00\n",
      " 1.07142879e+00 5.89123140e-01 1.96728277e-01 4.28680832e-02\n",
      " 1.60351829e-02 7.26840328e-02 3.45407532e-01 8.19457636e-01\n",
      " 1.19289312e+00 1.21496732e+00 8.84999523e-01 3.79906737e-01\n",
      " 3.87331813e-01 9.06482830e-01 1.29035945e+00 1.31940006e+00\n",
      " 9.78757769e-01 4.76966465e-01 1.27168587e-01 2.11923134e-02\n",
      " 1.44063591e-02 8.57732477e-02 3.76648466e-01 8.87929238e-01\n",
      " 1.23895217e+00 1.25035519e+00 8.86075297e-01 3.57954944e-01\n",
      " 3.26138273e-01 8.93522235e-01 1.31510628e+00 1.35238794e+00\n",
      " 9.61461921e-01 4.39577541e-01 1.13927428e-01 3.84975505e-02\n",
      " 5.36327846e-02 1.69787235e-01 5.42599817e-01 1.06182197e+00\n",
      " 1.37321399e+00 1.25057057e+00 8.18406790e-01 2.61721288e-01\n",
      " 1.82330468e-01 7.59475951e-01 1.28679207e+00 1.44958046e+00\n",
      " 1.10688967e+00 5.57203861e-01 2.14130381e-01 1.47069378e-01\n",
      " 2.15676089e-01 4.32815974e-01 8.96862446e-01 1.36377634e+00\n",
      " 1.49075578e+00 1.15939639e+00 6.22067020e-01 1.26992220e-01\n",
      " 5.84152687e-02 4.67427550e-01 1.09806340e+00 1.51210615e+00\n",
      " 1.42226714e+00 9.41197788e-01 5.57709665e-01 4.99719957e-01\n",
      " 6.56042283e-01 1.00399766e+00 1.40647827e+00 1.61266601e+00\n",
      " 1.41656614e+00 8.81148097e-01 3.21861387e-01 3.67738419e-02\n",
      " 1.09871555e-02 1.48898601e-01 6.49790437e-01 1.29661503e+00\n",
      " 1.64543706e+00 1.56182002e+00 1.31738978e+00 1.25782812e+00\n",
      " 1.39819160e+00 1.60791875e+00 1.72751589e+00 1.54867872e+00\n",
      " 1.01832667e+00 4.19518357e-01 9.27781289e-02 7.52478765e-03\n",
      " 2.67797390e-03 2.13532309e-02 1.63836169e-01 6.27896414e-01\n",
      " 1.26470542e+00 1.69852879e+00 1.80189263e+00 1.79891885e+00\n",
      " 1.80963883e+00 1.76736086e+00 1.51130342e+00 9.40219832e-01\n",
      " 3.74622653e-01 8.96866275e-02 1.24228554e-02 1.88855453e-03\n",
      " 7.41913845e-05 1.44583295e-03 1.03138830e-02 7.97420072e-02\n",
      " 3.19437704e-01 7.96441981e-01 1.28306524e+00 1.52049088e+00\n",
      " 1.42675380e+00 1.03130694e+00 5.32240296e-01 1.74166387e-01\n",
      " 3.57644515e-02 5.52804884e-03 4.36592998e-04 0.00000000e+00] [5.01596286e-02 7.93695089e-02 1.46489017e-01 2.65522337e-01\n",
      " 4.42306204e-01 6.35148001e-01 7.40462105e-01 7.48387032e-01\n",
      " 7.52036960e-01 6.78162781e-01 4.81813622e-01 2.95993695e-01\n",
      " 1.02298252e-01 6.82956225e-02 3.69197145e-03 0.00000000e+00\n",
      " 5.53305148e-02 9.36063684e-02 2.40012769e-01 4.83422217e-01\n",
      " 7.27502091e-01 8.01985000e-01 6.94079513e-01 6.09677496e-01\n",
      " 6.52843815e-01 7.58749067e-01 8.06674659e-01 6.41779078e-01\n",
      " 3.75508554e-01 1.82421873e-01 5.60909703e-02 1.83784976e-04\n",
      " 9.07390154e-02 1.92883673e-01 4.16989953e-01 7.07690582e-01\n",
      " 8.35158840e-01 7.30403526e-01 6.28008151e-01 6.32851408e-01\n",
      " 6.86100539e-01 6.71979869e-01 7.51457414e-01 8.24431822e-01\n",
      " 6.63627535e-01 3.74208629e-01 1.38194178e-01 2.98619157e-02\n",
      " 9.45533790e-02 2.82750058e-01 6.06158973e-01 8.42184682e-01\n",
      " 8.02525637e-01 6.80684430e-01 7.48069966e-01 8.29618901e-01\n",
      " 8.54595560e-01 8.13916791e-01 7.25657326e-01 7.80928249e-01\n",
      " 8.29105508e-01 6.20032814e-01 3.01234018e-01 5.58154512e-02\n",
      " 1.09365871e-01 4.41834837e-01 7.86403336e-01 8.54671841e-01\n",
      " 7.25871029e-01 7.49769833e-01 8.60018826e-01 8.48475760e-01\n",
      " 7.93461173e-01 8.30151279e-01 8.38238904e-01 7.46830716e-01\n",
      " 8.23250136e-01 8.07749355e-01 5.21476656e-01 1.51179416e-01\n",
      " 1.93296940e-01 6.43519638e-01 8.66847326e-01 7.99175192e-01\n",
      " 7.32236741e-01 8.36613090e-01 8.58973603e-01 7.10036806e-01\n",
      " 5.93002877e-01 6.76919355e-01 8.31300490e-01 8.22357229e-01\n",
      " 7.87742805e-01 8.57211603e-01 7.19108684e-01 2.69220701e-01\n",
      " 3.32313804e-01 7.92583272e-01 8.69718115e-01 7.69382790e-01\n",
      " 7.94654102e-01 8.64282887e-01 7.76566173e-01 5.26547832e-01\n",
      " 3.76112150e-01 4.76751198e-01 7.55143627e-01 8.53824054e-01\n",
      " 7.91149389e-01 8.39106726e-01 8.31564203e-01 4.23639743e-01\n",
      " 4.87032030e-01 8.63470062e-01 8.47748200e-01 7.72816355e-01\n",
      " 8.52947815e-01 8.56126914e-01 6.26520525e-01 3.57070009e-01\n",
      " 2.32239243e-01 3.50765435e-01 6.85159974e-01 8.53280525e-01\n",
      " 8.21682300e-01 8.23020619e-01 8.73898674e-01 5.52603454e-01\n",
      " 6.01596881e-01 8.84913792e-01 8.23667880e-01 7.97195327e-01\n",
      " 8.79116478e-01 8.04003126e-01 4.88515527e-01 2.33873563e-01\n",
      " 1.32954990e-01 2.82824021e-01 6.47546729e-01 8.55150837e-01\n",
      " 8.32743227e-01 8.13760126e-01 8.79500639e-01 6.23278481e-01\n",
      " 6.27274788e-01 8.87553616e-01 8.08346650e-01 7.99217941e-01\n",
      " 8.83241286e-01 7.40576048e-01 3.95873214e-01 1.58194876e-01\n",
      " 1.35774498e-01 3.17394838e-01 6.64478692e-01 8.69441926e-01\n",
      " 8.24799842e-01 8.14857118e-01 8.75637883e-01 5.99084617e-01\n",
      " 5.60878494e-01 8.79172781e-01 7.99994274e-01 7.79500355e-01\n",
      " 8.71300238e-01 7.07469723e-01 3.70424796e-01 2.22900094e-01\n",
      " 2.61840203e-01 4.53336326e-01 7.48030848e-01 8.66036662e-01\n",
      " 7.69580365e-01 8.21516759e-01 8.58901592e-01 4.99634590e-01\n",
      " 3.90619385e-01 8.34941475e-01 8.17641589e-01 7.24679551e-01\n",
      " 8.40919298e-01 7.59144096e-01 5.11722843e-01 4.41270048e-01\n",
      " 5.16084855e-01 6.84294249e-01 8.42083832e-01 7.76860627e-01\n",
      " 7.07485281e-01 8.39049325e-01 7.73085343e-01 3.34022719e-01\n",
      " 2.04963592e-01 6.81793854e-01 8.40705264e-01 6.82730699e-01\n",
      " 7.26315544e-01 8.23864229e-01 7.46543700e-01 7.28041059e-01\n",
      " 7.90768951e-01 8.23062208e-01 7.65169592e-01 6.35267424e-01\n",
      " 7.38940651e-01 8.33830774e-01 5.75147368e-01 1.70537311e-01\n",
      " 9.87858616e-02 3.81298193e-01 7.51553287e-01 7.80270482e-01\n",
      " 5.63772865e-01 6.42284817e-01 7.48036762e-01 7.75665140e-01\n",
      " 7.32949180e-01 6.31842594e-01 5.10614267e-01 6.55642504e-01\n",
      " 8.07719344e-01 6.34404155e-01 3.08036725e-01 7.70031201e-02\n",
      " 4.28491533e-02 1.49241169e-01 3.88664918e-01 7.09137364e-01\n",
      " 7.47600259e-01 5.37788720e-01 4.69614715e-01 4.75974793e-01\n",
      " 4.70450663e-01 5.17338109e-01 6.74591782e-01 7.68727058e-01\n",
      " 5.82843252e-01 2.99680167e-01 9.71493362e-02 5.02788596e-02\n",
      " 2.30063923e-03 3.19935119e-02 8.28517967e-02 2.53333160e-01\n",
      " 4.80454805e-01 6.58647918e-01 6.69771998e-01 6.43217647e-01\n",
      " 6.62741331e-01 6.75677391e-01 5.86224763e-01 3.56460503e-01\n",
      " 1.71512333e-01 5.67475697e-02 1.20193571e-02 0.00000000e+00]\n"
     ]
    }
   ],
   "source": [
    "print(mu[0], sig[0])"
   ]
  },
  {
   "cell_type": "markdown",
   "metadata": {
    "collapsed": false
   },
   "source": [
    "## A2- Log-vraisemblance d'une image pour une classe\n",
    "\n",
    "Écrivez une fonction `log_likelihood : float np.array x float np.array x float np.array -> float` qui, étant donné une image (donc un tableau de 256 nombres réels) et un couple de paramètres `( array ( [μ0,…,μ255] ), array ( [σ20,…,σ255] ) )`, renvoie la log-vraisemblance qu'aurait l'image selon cet ensemble de $μ_i$ et $σ_i$ (correspondant à une classe de chiffre). Rappelez-vous que (en mettant $-\\frac{1}{2}$ en facteur) : \n",
    "\n",
    "$$\\log(p(x_0,\\cdots,x_{255})=\\sum_{i=0}^{255} \\log p(x_i)=-\\frac{1}{2}\\sum_{i=0}^{255} \\left[ \\log(2\\pi \\sigma^2_i) + \\frac{(x_i-\\mu_i)^2}{\\sigma_i^2} \\right]$$\n",
    "\n",
    "Notez que le module `np` contient une constante `np.pi` ainsi que toutes les fonctions mathématiques classiques directement applicables sur des vecteurs. Vous pouvez donc éventuellement coder la ligne précédente sans boucle, en une ligne.\n",
    "\n",
    "**Attention**: dans la matrice `sig` calculée dans la question précédente, pour certains pixels de certaines classes, la valeur de $σ^2$ est égale à $0$ (toutes les images de la base d'apprentissage avaient exactement la même valeur sur ce pixel). \n",
    "* cette valeur pose problème dans le calcul précédent (division par 0)\n",
    "* Réfléchir à différente manière de traiter ce problème:\n",
    " * faible valeur par défaut de $\\sigma$ reflétant une variance très faible mais évitant la division par 0 (usage de  `np.maximum`par exemple)\n",
    " * vraisemblance de 1 pour le ou les pixels impactés"
   ]
  },
  {
   "cell_type": "code",
   "execution_count": 8,
   "metadata": {
    "ExecuteTime": {
     "end_time": "2024-03-25T15:22:30.478803Z",
     "start_time": "2024-03-25T15:22:30.472462Z"
    }
   },
   "outputs": [],
   "source": [
    "def log_likelihood(img, mu, sig, defsig=1e-5):\n",
    "    if defsig > 0:\n",
    "        sig = np.maximum(sig, defsig)\n",
    "    else: \n",
    "        index = np.where(sig != 0)\n",
    "        mu = mu[index]\n",
    "        sig = sig[index]\n",
    "        img = img[index]\n",
    "        \n",
    "    return -0.5 *np.sum( np.log(2 * np.pi * sig**2) + ((img - mu)**2 / sig**2))\n",
    "\n",
    "\n",
    "\n"
   ]
  },
  {
   "cell_type": "code",
   "execution_count": 9,
   "metadata": {
    "ExecuteTime": {
     "end_time": "2024-03-25T15:22:30.489259Z",
     "start_time": "2024-03-25T15:22:30.481175Z"
    }
   },
   "outputs": [
    {
     "name": "stdout",
     "output_type": "stream",
     "text": [
      "-90.69963035168726\n",
      "[-90.69963035168726, -231211311074.5327, -364.8317101985202, -487.01085544875843, -513.128064745155, -387.75946984198, -59610.117733618186, -75567222244.77489, -271.980542616389, -857252055.4774221]\n"
     ]
    }
   ],
   "source": [
    "print(log_likelihood(X_train[0], mu[0], sig[0])) \n",
    "# vraisemblance de l'image 0 selon les paramètres de la classe 0\n",
    "\n",
    "print([log_likelihood(X_train[0], mu[i], sig[i]) for i in range(10)]) \n",
    "# vraisemblance de l'image 0 pour toutes les classes"
   ]
  },
  {
   "cell_type": "markdown",
   "metadata": {},
   "source": [
    "Check : le code ci-dessus avec une valeur par défaut de $1e-5$ pour les sigmas nuls doit donner:\n",
    "```\n",
    "-90.69963035168726\n",
    "```\n",
    "puis pour toutes les classes:\n",
    "```\n",
    "[-90.69963035168726, -231211311074.5327, -364.8317101985202, -487.01085544875843, -513.128064745155, -387.75946984198, -59610.117733618186, -75567222244.77489, -271.980542616389, -857252055.4774221]\n",
    "```\n",
    "\n",
    "Avec une vraisemblance de 1 pour les pixels problématiques:\n",
    "```\n",
    "[-111.88760421521835, -1716629080.989729, -364.83171019852006, -487.01085544875855, -544.9100255404516, -387.7594698419803, -59747.8395637312, -581523.2639945432, -303.762503411686, -13497.825910916881]\n",
    "```"
   ]
  },
  {
   "cell_type": "markdown",
   "metadata": {},
   "source": [
    "## A3- Classification d'une image\n",
    "Écrire une fonction `classify_image : float np.array x float np.array x float np.array -> int` qui, étant donnée une image et l'ensemble de paramètres déterminés dans les questions précédentes, renvoie la classe la plus probable de l'image, c'est-à-dire celle dont la log-vraisemblance est la plus grande."
   ]
  },
  {
   "cell_type": "code",
   "execution_count": 10,
   "metadata": {
    "ExecuteTime": {
     "end_time": "2024-03-25T15:22:30.498635Z",
     "start_time": "2024-03-25T15:22:30.493355Z"
    }
   },
   "outputs": [],
   "source": [
    "\n",
    "def classify_image(img, mu, sig, defsig=1e-5):\n",
    "    log_likelihoods = []\n",
    "    \n",
    "    for c in range(mu.shape[0]):  \n",
    "        ll = log_likelihood(img, mu[c], sig[c], defsig)\n",
    "        log_likelihoods.append(ll)\n",
    "    \n",
    "    log_likelihoods = np.array(log_likelihoods)\n",
    "    \n",
    "    return np.argmax(log_likelihoods)\n"
   ]
  },
  {
   "cell_type": "code",
   "execution_count": 11,
   "metadata": {
    "ExecuteTime": {
     "end_time": "2024-03-25T15:22:30.505852Z",
     "start_time": "2024-03-25T15:22:30.500269Z"
    }
   },
   "outputs": [
    {
     "data": {
      "text/plain": "0"
     },
     "execution_count": 11,
     "metadata": {},
     "output_type": "execute_result"
    }
   ],
   "source": [
    "# check\n",
    "classify_image(X_train[0], mu, sig, -1)\n",
    "# l'image 0 est de la classe 0"
   ]
  },
  {
   "cell_type": "markdown",
   "metadata": {},
   "source": [
    "## A4- Classification de toutes les images\n",
    "Écrire une fonction `classify_all_images : float np.array x float np.array x float np.array -> float np.array` qui, étant donné un tableau $X$ des images ($N \\times 256$) et l'ensemble de paramètres déterminés dans les questions précédentes, renvoie un tableau $\\hat Y$ qui donne la prédiction de classe pour toutes les images"
   ]
  },
  {
   "cell_type": "code",
   "execution_count": 12,
   "metadata": {
    "ExecuteTime": {
     "end_time": "2024-03-25T15:22:30.513031Z",
     "start_time": "2024-03-25T15:22:30.507867Z"
    }
   },
   "outputs": [],
   "source": [
    "\n",
    "def classify_all_images(X, mu, sig, defsig=1e-5):\n",
    "    pred = np.zeros(X.shape[0], dtype=int)\n",
    "    # Pour chaque image dans X -> predire classe et l'ajouter\n",
    "    for i in range(X.shape[0]):\n",
    "        pred[i] = classify_image(X[i], mu, sig, defsig)\n",
    "        \n",
    "    return pred\n"
   ]
  },
  {
   "cell_type": "code",
   "execution_count": 13,
   "metadata": {
    "ExecuteTime": {
     "end_time": "2024-03-25T15:22:32.017092Z",
     "start_time": "2024-03-25T15:22:30.514868Z"
    }
   },
   "outputs": [
    {
     "name": "stdout",
     "output_type": "stream",
     "text": [
      "6229\n",
      "[0 9 7 ... 6 3 2]\n"
     ]
    }
   ],
   "source": [
    "# check\n",
    "Y_train_hat = classify_all_images(X_train, mu, sig, -1)\n",
    "print(X_train.shape[0])\n",
    "\n",
    "print(Y_train_hat) # doit rendre: [0 9 7 ... 6 3 2]"
   ]
  },
  {
   "cell_type": "markdown",
   "metadata": {},
   "source": [
    "## A5-Matrice de confusion et affichage du résultat des classifications\n",
    "\n",
    "La matrice de confusion est de la forme $C \\times C$ où $C$ est le nombre de classe. Les lignes sont les vraies classes, les colonnes sont les classes prédites. Chaque case (i,j) contient le nombre d'images correspondant à la vraie classe i et à la prédiction j.\n",
    "Si votre classifieur est performant, vous devriez observer des pics sur la diagonale. \n",
    "\n",
    "La fonction `matrice_confusion(Y, Y_hat)` prend en argument un vecteur d'étiquettes réelles et un vecteur de même taille d'étiquettes prédites et retourne la matrice de confusion.\n",
    "\n",
    "Vous devriez obtenir une matrice de la forme:\n",
    "<img src=\"mat_conf_train.png\" title=\"Matrice de confusion\">"
   ]
  },
  {
   "cell_type": "code",
   "execution_count": 14,
   "metadata": {
    "ExecuteTime": {
     "end_time": "2024-03-25T15:22:32.032186Z",
     "start_time": "2024-03-25T15:22:32.020126Z"
    }
   },
   "outputs": [],
   "source": [
    "def matrice_confusion(Y, Y_hat):\n",
    "    n_classes = 10\n",
    "    \n",
    "    confusion_matrix = np.zeros((n_classes, n_classes))\n",
    "    \n",
    "    for y, y_hat in zip(Y, Y_hat):\n",
    "        confusion_matrix[int(y), int(y_hat)] += 1\n",
    "    \n",
    "    print(confusion_matrix)\n",
    "    return confusion_matrix"
   ]
  },
  {
   "cell_type": "code",
   "execution_count": 15,
   "metadata": {
    "ExecuteTime": {
     "end_time": "2024-03-25T15:22:32.129975Z",
     "start_time": "2024-03-25T15:22:32.033204Z"
    }
   },
   "outputs": [
    {
     "name": "stdout",
     "output_type": "stream",
     "text": [
      "[[930.   0.   9.   5.   5.   1.  12.   0. 103.   0.]\n",
      " [  0. 835.   2.   0.   1.   0.   5.   0.   9.   5.]\n",
      " [  4.   1. 498.  12.   6.   7.  25.   0.  64.   1.]\n",
      " [  5.   0.  19. 420.   1.  12.   5.   2.  89.  11.]\n",
      " [  0.   3.   9.   0. 283.   5.  16.   0.  14. 216.]\n",
      " [  8.   0.  11.  33.  10. 264.  82.   1.  57.   6.]\n",
      " [  5.   1.  15.   0.   0.   9. 533.   0.  10.   0.]\n",
      " [  0.   0.   1.   2.  12.   0.   0. 395.  10.  90.]\n",
      " [  3.   2.   8.   0.   3.  18.   6.   0. 404.  40.]\n",
      " [  0.   2.   0.   1.  33.   3.   0.   5.  13. 483.]]\n",
      "Taux de bonne classification: 0.8099213356879114\n"
     ]
    },
    {
     "data": {
      "text/plain": "<matplotlib.image.AxesImage at 0x11c083fb0>"
     },
     "execution_count": 15,
     "metadata": {},
     "output_type": "execute_result"
    },
    {
     "data": {
      "text/plain": "<Figure size 640x480 with 1 Axes>",
      "image/png": "[encoded data removed]"
     },
     "metadata": {},
     "output_type": "display_data"
    }
   ],
   "source": [
    "# affichage de la matrice de confusion\n",
    "m = matrice_confusion(Y_train, Y_train_hat)\n",
    "\n",
    "print(\"Taux de bonne classification: {}\".format(np.where(Y_train == Y_train_hat, 1, 0).mean()))\n",
    "\n",
    "plt.figure()\n",
    "plt.imshow(m)"
   ]
  },
  {
   "cell_type": "markdown",
   "metadata": {},
   "source": [
    "## A6- Ensemble d'apprentissage, ensemble de test\n",
    "\n",
    "Dans la procédure que nous avons suivie jusqu'ici, nous avons triché. Les mêmes données servent à apprendre les paramètres et à évaluer le modèle. Evidemment, le modèle est parfaitement adapté et les performances sur-estimées.\n",
    "\n",
    "Afin de réduire ce biais, nous allons maintenant évaluer les performances sur les données de test. Les performances devraient être plus basses... Mais plus réalistes.\n",
    "\n",
    "Effectuer ces calculs et afficher le taux de bonne classification et la matrice de confusion.\n",
    "\n",
    "**Attention:** il faut donc utiliser les paramètres appris sur de nouvelles données sans réapprendre des paramètres spécifiques sinon ça ne marche pas\n",
    "\n",
    "Afin de mieux comprendre les erreurs (et de vérifier vos connaissances sur numpy): afficher une image de chiffre mal classée, son étiquette prédite et son étiquette réelle. \n",
    "Normalement, vous devez retrouver automatiquement que le premier chiffre mal classé est l'image 10:\n",
    "\n",
    "<img src=\"bad_classif.png\" title=\"exemple d'erreur\">"
   ]
  },
  {
   "cell_type": "code",
   "execution_count": 16,
   "metadata": {
    "collapsed": false,
    "ExecuteTime": {
     "end_time": "2024-03-25T15:22:33.228758Z",
     "start_time": "2024-03-25T15:22:32.131280Z"
    }
   },
   "outputs": [
    {
     "name": "stdout",
     "output_type": "stream",
     "text": [
      "Indice 10\n",
      "Prediction:  6\n",
      "Réponse:  5\n"
     ]
    }
   ],
   "source": [
    "# votre code\n",
    "Y_test_hat = classify_all_images(X_test, mu, sig, -1)\n",
    "\n",
    "misclassified_indices = np.where(Y_test != Y_test_hat)[0]\n",
    "\n",
    "first_misclassified_index = misclassified_indices[0]\n",
    "first_misclassified_image = X_test[first_misclassified_index]\n",
    "\n",
    "print(\"Indice\", first_misclassified_index)\n",
    "print(\"Prediction: \", Y_test_hat[first_misclassified_index])\n",
    "print(\"Réponse: \", Y_test[first_misclassified_index])"
   ]
  },
  {
   "cell_type": "markdown",
   "metadata": {
    "collapsed": false
   },
   "source": [
    "# Autres modélisations possibles pour les images\n",
    "\n",
    "## B. Modélisation par une loi de Bernoulli\n",
    "\n",
    "Soit les indices $i$ donnant les images et les indices $j$ référant aux pixels dans l'image, nous cherchons à déterminer la probabilité d'illumination d'un pixel $j$ pour une collection d'image (d'une seule classe, par exemple les $0$).\n",
    "\n",
    "Collection de $0$:\n",
    "$$ X = \\{\\mathbf{x_i}\\}_{i = 1,\\ldots, N}, \\qquad \\mathbf{x_i} \\in \\{0,1\\}^{256}$$\n",
    "\n",
    "Modélisation de la variable de Bernoulli $X_j$, valeur du pixel $j$ en écriture factorisée:\n",
    "$$ p(X_j = x_{ij}) = p_j^{x_{ij}} (1-p_j)^{(1-x_{ij})} = \\left\\{\n",
    "\\begin{array}{ccc}\n",
    "p_j & \\mbox{ si } x_{ij} = 1 \\\\\n",
    "1-p_j & \\mbox{ si } x_{ij} = 0 \\\\\n",
    "\\end{array}\n",
    "\\right.$$\n",
    "\n",
    "Expression de la vraisemblance\n",
    "\n",
    "Maximisation de la vraisemblance $\\Rightarrow$ $\\nabla_{\\theta} \\mathcal L(X, \\theta) = 0$:\n",
    "\n",
    "$$p_j^\\star = \\frac{\\sum_i x_{ij}}{N} $$\n",
    "\n",
    "Intuitif: nombre de $1$ pour le pixel $j$ divisé par le nombre d'image = pourcentage d'illumination du pixel $j$"
   ]
  },
  {
   "cell_type": "code",
   "execution_count": 17,
   "metadata": {
    "ExecuteTime": {
     "end_time": "2024-03-25T15:22:33.400064Z",
     "start_time": "2024-03-25T15:22:33.230065Z"
    }
   },
   "outputs": [
    {
     "data": {
      "text/plain": "<matplotlib.image.AxesImage at 0x11c0827b0>"
     },
     "execution_count": 17,
     "metadata": {},
     "output_type": "execute_result"
    },
    {
     "data": {
      "text/plain": "<Figure size 640x480 with 1 Axes>",
      "image/png": "[encoded data removed]"
     },
     "metadata": {},
     "output_type": "display_data"
    }
   ],
   "source": [
    "# binarisation des images pour coller avec l'hypothèse de Bernoulli:\n",
    "\n",
    "Xb_train = np.where(X_train>0, 1, 0)\n",
    "Xb_test  = np.where(X_test>0, 1, 0)\n",
    "\n",
    "# affichage d'une image binaire:\n",
    "plt.figure()\n",
    "plt.imshow(Xb_train[0].reshape(16,16))"
   ]
  },
  {
   "cell_type": "markdown",
   "metadata": {},
   "source": [
    "### B-1: Ecrire la fonction d'apprentissage des paramètres qui retourne la matrice theta suivante:\n",
    "\n",
    "$$ \\theta^\\star = \n",
    " \\left[\n",
    " \\begin{array}{ccc}\n",
    "     [p_0^\\star, \\ldots, p_{255}^\\star] & \\mbox{Paramètres optimaux de la classe 0 au sens du max de vraisembalnce} \\\\\n",
    "     [p_0^\\star, \\ldots, p_{255}^\\star] & \\mbox{Paramètres optimaux de la classe 1 au sens du max de vraisembalnce} \\\\\n",
    "\\vdots & \\\\\n",
    "     [p_0^\\star, \\ldots, p_{255}^\\star] & \\mbox{Paramètres optimaux de la classe 9 au sens du max de vraisembalnce} \\\\\n",
    "\\end{array}\n",
    " \\right]\n",
    " $$\n",
    " \n",
    " Il faut ensuite calculer les :\n",
    " $$ \\log p (\\mathbf{x_i} | \\theta^{(c)}) = \\sum_j \\log p(X_j = x_{ij})  = \\sum_j {x_{ij}} \\log p_j + {(1-x_{ij})}\\log(1-p_j)$$\n",
    " \n",
    " Faire passer les $N$ images dans les $C$ modèles donne un tableau de la forme :\n",
    " $$ \\log p (X | \\theta) =  \\left[\n",
    " \\begin{array}{cccc}\n",
    " \\log p (\\mathbf{x_0} | \\theta^{(0)}) &  \\log p (\\mathbf{x_0} | \\theta^{(1)}) & \\ldots &  \\log p (\\mathbf{x_0} | \\theta^{(9)}) \\\\\n",
    " & \\vdots & \\\\\n",
    " \\log p (\\mathbf{x_N} | \\theta^{(0)}) &  \\log p (\\mathbf{x_N} | \\theta^{(1)}) & \\ldots &  \\log p (\\mathbf{x_N} | \\theta^{(9)}) \\\\\n",
    "  \\end{array}\n",
    " \\right]\n",
    " $$\n",
    " \n",
    " Chaque ligne donne pour une image sa probabilité d'appartenance à chaque classe $c$.\n",
    " Un argmax par ligne donne une estimation de la classe."
   ]
  },
  {
   "cell_type": "code",
   "execution_count": 18,
   "metadata": {
    "ExecuteTime": {
     "end_time": "2024-03-25T15:22:33.408379Z",
     "start_time": "2024-03-25T15:22:33.405052Z"
    }
   },
   "outputs": [],
   "source": [
    "def learnBernoulli ( X,Y ):\n",
    "    \n",
    "    theta = np.zeros((10, X.shape[1]))\n",
    "    \n",
    "    for c in range(10):\n",
    "        X_c = X[Y == c]\n",
    "        theta[c] = np.mean(X_c, axis=0)\n",
    "    \n",
    "    return theta"
   ]
  },
  {
   "cell_type": "code",
   "execution_count": 19,
   "metadata": {
    "ExecuteTime": {
     "end_time": "2024-03-25T15:22:33.419624Z",
     "start_time": "2024-03-25T15:22:33.409935Z"
    }
   },
   "outputs": [
    {
     "name": "stdout",
     "output_type": "stream",
     "text": [
      "(10, 256)\n",
      "[[0.00093897 0.00657277 0.03192488 ... 0.02347418 0.00375587 0.        ]\n",
      " [0.         0.         0.         ... 0.00233372 0.         0.        ]\n",
      " [0.01941748 0.05987055 0.13430421 ... 0.27993528 0.20711974 0.11326861]\n",
      " ...\n",
      " [0.06666667 0.16078431 0.2745098  ... 0.         0.         0.        ]\n",
      " [0.01033058 0.05371901 0.1322314  ... 0.01446281 0.00206612 0.        ]\n",
      " [0.0037037  0.0037037  0.01111111 ... 0.00555556 0.00185185 0.        ]]\n"
     ]
    }
   ],
   "source": [
    "theta = learnBernoulli ( Xb_train,Y_train )\n",
    "print(theta.shape)\n",
    "print(theta)"
   ]
  },
  {
   "cell_type": "markdown",
   "metadata": {},
   "source": [
    "Check du résultat précédent:\n",
    "```\n",
    "(10, 256)\n",
    "[[0.00093897 0.00657277 0.03192488 ... 0.02347418 0.00375587 0.        ]\n",
    " [0.         0.         0.         ... 0.00233372 0.         0.        ]\n",
    " [0.01941748 0.05987055 0.13430421 ... 0.27993528 0.20711974 0.11326861]\n",
    " ...\n",
    " [0.06666667 0.16078431 0.2745098  ... 0.         0.         0.        ]\n",
    " [0.01033058 0.05371901 0.1322314  ... 0.01446281 0.00206612 0.        ]\n",
    " [0.0037037  0.0037037  0.01111111 ... 0.00555556 0.00185185 0.        ]]\n",
    "```"
   ]
  },
  {
   "cell_type": "markdown",
   "metadata": {},
   "source": [
    "### B-2: Ecrire ensuite une fonction de calcul de la vraisemblance d'une image par rapport à ces paramètres\n",
    "\n",
    "**Attention** $log(0)$ n'est pas défini et $log(1-x)$ avec $x=1$ non plus ! \n",
    "La solution à ce problème est assez simple, il suffit de seuiller les probabilités d'illumination entre $\\epsilon $ et $1-\\epsilon$."
   ]
  },
  {
   "cell_type": "code",
   "execution_count": 20,
   "metadata": {
    "ExecuteTime": {
     "end_time": "2024-03-25T15:22:33.426703Z",
     "start_time": "2024-03-25T15:22:33.422055Z"
    }
   },
   "outputs": [],
   "source": [
    "def logpobsBernoulli(X, theta):\n",
    "    \n",
    "    epsilon = 1e-4\n",
    "    theta = np.clip(theta, epsilon, 1-epsilon)\n",
    "    \n",
    "    return np.sum(X * np.log(theta) + (1 - X) * np.log(1 - theta), axis=1)"
   ]
  },
  {
   "cell_type": "code",
   "execution_count": 21,
   "metadata": {
    "ExecuteTime": {
     "end_time": "2024-03-25T15:22:33.433316Z",
     "start_time": "2024-03-25T15:22:33.428395Z"
    }
   },
   "outputs": [
    {
     "data": {
      "text/plain": "array([ -84.92517398, -742.65796653, -171.38766957, -175.31753619,\n       -216.95715849, -161.36508121, -208.21533436, -360.17024632,\n       -172.16285293, -287.87685778])"
     },
     "execution_count": 21,
     "metadata": {},
     "output_type": "execute_result"
    }
   ],
   "source": [
    "logpobsBernoulli(Xb_train[0], theta)\n",
    "# check avec un epsilon = 1e-4 : \n"
   ]
  },
  {
   "cell_type": "markdown",
   "metadata": {},
   "source": [
    "### B-3: Evaluer ensuite vos performances avec les mêmes méthodes que précédemment"
   ]
  },
  {
   "cell_type": "code",
   "execution_count": 22,
   "metadata": {
    "ExecuteTime": {
     "end_time": "2024-03-25T15:22:33.780823Z",
     "start_time": "2024-03-25T15:22:33.434478Z"
    }
   },
   "outputs": [
    {
     "name": "stdout",
     "output_type": "stream",
     "text": [
      "[[421.   0.   0.   0.   4.   6.  33.   0.  23.   1.]\n",
      " [  0. 404.   0.   0.   2.   0.   1.   0.   4.   1.]\n",
      " [  5.   0. 263.   8.  11.   3.   2.   4.  15.   0.]\n",
      " [  9.   0.   5. 220.   2.   9.   0.   2.  11.   2.]\n",
      " [  1.   5.   9.   0. 251.   1.   4.   1.   3.  31.]\n",
      " [ 17.   0.   4.  12.   5. 179.  15.   0.   8.   4.]\n",
      " [ 13.   2.   8.   0.   4.   4. 227.   0.   3.   0.]\n",
      " [  0.   1.   3.   0.  11.   0.   0. 242.   1.  24.]\n",
      " [  9.   6.   2.   6.   2.   7.   0.   0. 181.  11.]\n",
      " [  0.   7.   0.   0.  31.   0.   0.   9.   3. 231.]]\n",
      "Taux de bonne classification: 0.8533724340175953\n"
     ]
    },
    {
     "data": {
      "text/plain": "<matplotlib.image.AxesImage at 0x11c080bf0>"
     },
     "execution_count": 22,
     "metadata": {},
     "output_type": "execute_result"
    },
    {
     "data": {
      "text/plain": "<Figure size 640x480 with 1 Axes>",
      "image/png": "[encoded data removed]"
     },
     "metadata": {},
     "output_type": "display_data"
    }
   ],
   "source": [
    "Y_test_hat = [np.argmax(logpobsBernoulli(Xb_test[i], theta)) for i in range (len(Xb_test))]\n",
    "\n",
    "m = matrice_confusion(Y_test, Y_test_hat)\n",
    "\n",
    "print(\"Taux de bonne classification: {}\".format(np.where(Y_test == Y_test_hat, 1, 0).mean()))\n",
    "\n",
    "plt.figure()\n",
    "plt.imshow(m)"
   ]
  },
  {
   "cell_type": "markdown",
   "metadata": {},
   "source": [
    "# C. Modélisation des profils de chiffre\n",
    "\n",
    "Comme expliquer dans le TD 2, il est possible de jouer avec les profils des images: chaque image est alors séparée en 16 lignes et pour chaque ligne, nous modélisons l'apparition du premier pixel allumé avec une loi géométrique.\n",
    "Pour plus de simplicité, nous vous donnons ci-dessous la fonction de transformation de la base d'image et son application."
   ]
  },
  {
   "cell_type": "code",
   "execution_count": 23,
   "metadata": {
    "ExecuteTime": {
     "end_time": "2024-03-25T15:22:34.256587Z",
     "start_time": "2024-03-25T15:22:33.782212Z"
    }
   },
   "outputs": [],
   "source": [
    "################################################################################\n",
    "def transfoProfil(X):\n",
    "    x2 = []\n",
    "    for x in X:\n",
    "        ind = np.where(np.hstack((x.reshape(16, 16), np.ones((16,1))))>0.3)\n",
    "        x2.append( [ind[1][np.where(ind[0] == i)][0] for i in range(16)])\n",
    "    return np.array(x2)\n",
    "\n",
    "\n",
    "Xg_train = transfoProfil(Xb_train)\n",
    "Xg_test  = transfoProfil(Xb_test)"
   ]
  },
  {
   "cell_type": "code",
   "execution_count": 24,
   "metadata": {
    "ExecuteTime": {
     "end_time": "2024-03-25T15:22:34.260148Z",
     "start_time": "2024-03-25T15:22:34.257465Z"
    }
   },
   "outputs": [
    {
     "name": "stdout",
     "output_type": "stream",
     "text": [
      "[3 2 2 2 2 2 2 1 1 1 2 1 2 2 3 4]\n"
     ]
    }
   ],
   "source": [
    "print(Xg_train[0]) # [3 2 2 2 2 2 2 1 1 1 2 1 2 2 3 4]\n",
    "# une image est maintenant représentée par 16 entiers"
   ]
  },
  {
   "cell_type": "markdown",
   "metadata": {},
   "source": [
    "### C-123: Ecrire les fonctions d'apprentissage des paramètres et de calcul de la vraisemblance avec cette modélisation"
   ]
  },
  {
   "cell_type": "code",
   "execution_count": 25,
   "metadata": {
    "ExecuteTime": {
     "end_time": "2024-03-25T15:22:34.910367Z",
     "start_time": "2024-03-25T15:22:34.261088Z"
    }
   },
   "outputs": [
    {
     "name": "stdout",
     "output_type": "stream",
     "text": [
      "[[ -17.649052   -349.97737079 -182.0365989  -318.32978723 -228.1537321\n",
      "  -158.93764813  -78.40943383 -479.60466744 -120.06575285 -297.93124143]]\n",
      "[[806.   3.   2.   0.  28.   1. 156.   1.  68.   0.]\n",
      " [  0. 844.   0.   3.   1.   0.   4.   0.   4.   1.]\n",
      " [ 37.   8. 335.  57.  51.  15.  13.  22.  80.   0.]\n",
      " [  6.  26.  59. 365.   1.  19.   9.  32.  33.  14.]\n",
      " [ 23.  38.   0.   0. 342.   5.  11.   1.  27.  99.]\n",
      " [ 48.  14.  37.  66.  35. 159.  45.   4.  28.  36.]\n",
      " [100.  33.   1.   1.   3.   0. 431.   0.   4.   0.]\n",
      " [  0.  18.   1.   1.  11.   1.   0. 382.  10.  86.]\n",
      " [ 58.  33.   3.   2.  10.  35.   6.   1. 317.  19.]\n",
      " [  2.  13.   0.   0.  91.   0.   0.  36.  18. 380.]]\n",
      "[[369.   4.   1.   0.  12.   0.  77.   0.  25.   0.]\n",
      " [  0. 409.   0.   0.   0.   2.   1.   0.   0.   0.]\n",
      " [ 16.   4. 161.  35.  25.  10.   9.   9.  42.   0.]\n",
      " [  2.  10.  31. 168.   2.   8.   5.  15.  13.   6.]\n",
      " [ 25.  14.   2.   0. 179.   5.   4.   2.  15.  60.]\n",
      " [ 27.   9.  22.  32.  13.  77.  20.   4.  18.  22.]\n",
      " [ 48.  15.   0.   0.   1.   0. 196.   0.   1.   0.]\n",
      " [  0.   8.   2.   2.   4.   1.   0. 214.   2.  49.]\n",
      " [ 20.  15.   1.   3.   5.  18.   4.   2. 142.  14.]\n",
      " [  0.   8.   0.   0.  56.   0.   0.  28.   6. 183.]]\n",
      "Taux de bonne classification: 0.6836102965135223\n"
     ]
    },
    {
     "data": {
      "text/plain": "<matplotlib.image.AxesImage at 0x11c0fbf20>"
     },
     "execution_count": 25,
     "metadata": {},
     "output_type": "execute_result"
    },
    {
     "data": {
      "text/plain": "<Figure size 640x480 with 1 Axes>",
      "image/png": "[encoded data removed]"
     },
     "metadata": {},
     "output_type": "display_data"
    },
    {
     "data": {
      "text/plain": "<Figure size 640x480 with 1 Axes>",
      "image/png": "[encoded data removed]"
     },
     "metadata": {},
     "output_type": "display_data"
    }
   ],
   "source": [
    "def learnGeom(X, Y):\n",
    "    mu = np.zeros((10, X.shape[1]))\n",
    "    \n",
    "    for c in range(10):\n",
    "        X_c = X[Y == c]\n",
    "        mu[c] = np.mean(X_c, axis=0)\n",
    "\n",
    "    return mu\n",
    "\n",
    "def logpobsGeom(X, theta):\n",
    "    if X.ndim == 1:\n",
    "        X = X.reshape(1, -1)\n",
    "    \n",
    "    log_probs = np.zeros((X.shape[0], theta.shape[0]))\n",
    "    \n",
    "    for c in range(theta.shape[0]):\n",
    "        diff = X - theta[c]\n",
    "        squared_diff = diff ** 2\n",
    "        log_probs[:, c] = -np.sum(squared_diff, axis=1)\n",
    "        \n",
    "    return log_probs\n",
    "\n",
    "\n",
    "theta = learnGeom(Xg_train, Y_train)\n",
    "\n",
    "print(logpobsGeom(Xg_test[1], theta))\n",
    "\n",
    "Y_train_hat = [np.argmax(logpobsGeom(Xg_train[i], theta)) for i in range (len(Xg_train))]\n",
    "Y_test_hat  = [np.argmax(logpobsGeom(Xg_test[i], theta)) for i in range (len(Xg_test))]\n",
    "\n",
    "ma = matrice_confusion(Y_train, Y_train_hat)\n",
    "mt = matrice_confusion(Y_test, Y_test_hat)\n",
    "\n",
    "print(\"Taux de bonne classification: {}\".format(np.where(Y_test == Y_test_hat, 1, 0).mean()))\n",
    "\n",
    "plt.figure()\n",
    "plt.imshow(ma)\n",
    "plt.figure()\n",
    "plt.imshow(mt)"
   ]
  },
  {
   "cell_type": "markdown",
   "metadata": {},
   "source": [
    "# D. Maximum a posteriori\n",
    "\n",
    "Etant donné les distributions non uniformes de classes observées sur le jeu de donnée:\n",
    "\n",
    "<img src=\"distr_classes.png\" title=\"Distribution des classes\">\n",
    "\n",
    "Calculer les maxima a posteriori avec les différentes modélisations et vérifier s'il y a un gain en performance avec cette modélisation."
   ]
  },
  {
   "cell_type": "code",
   "execution_count": 26,
   "metadata": {
    "ExecuteTime": {
     "end_time": "2024-03-25T15:22:34.916542Z",
     "start_time": "2024-03-25T15:22:34.912062Z"
    }
   },
   "outputs": [
    {
     "name": "stdout",
     "output_type": "stream",
     "text": [
      "[0.17097447 0.13758228 0.09921336 0.09054423 0.08765452 0.0757746\n",
      " 0.09198908 0.0818751  0.07770108 0.08669128]\n"
     ]
    }
   ],
   "source": [
    "# récupération des probabilités a priori sur les données d'apprentissage:\n",
    "p= np.histogram(Y_train, np.linspace(-0.5,9.5,11))\n",
    "p = p[0] / p[0].sum()\n",
    "print(p)"
   ]
  },
  {
   "cell_type": "markdown",
   "metadata": {},
   "source": [
    "# E. Fusion de modèle\n",
    "\n",
    "Réussirez-vous à fusionner les sorties des modèles précédents pour améliorer la performance globale en test?\n",
    "* En faisant voter les classifieurs\n",
    "* En pondérant ces votes par leurs performances en apprentissage\n",
    "* En fusionnant les vraisemblances"
   ]
  },
  {
   "cell_type": "code",
   "execution_count": 26,
   "metadata": {
    "collapsed": false,
    "ExecuteTime": {
     "end_time": "2024-03-25T15:22:34.919285Z",
     "start_time": "2024-03-25T15:22:34.917558Z"
    }
   },
   "outputs": [],
   "source": []
  },
  {
   "cell_type": "code",
   "execution_count": 26,
   "metadata": {
    "collapsed": false,
    "ExecuteTime": {
     "end_time": "2024-03-25T15:22:34.923692Z",
     "start_time": "2024-03-25T15:22:34.921156Z"
    }
   },
   "outputs": [],
   "source": []
  },
  {
   "cell_type": "markdown",
   "metadata": {},
   "source": [
    "# F. Proposer une modélisation en 16 niveaux de gris basées sur une loi multinomiale"
   ]
  },
  {
   "cell_type": "markdown",
   "metadata": {},
   "source": []
  }
 ],
 "metadata": {
  "kernelspec": {
   "display_name": "venv",
   "language": "python",
   "name": "venv"
  },
  "language_info": {
   "codemirror_mode": {
    "name": "ipython",
    "version": 3
   },
   "file_extension": ".py",
   "mimetype": "text/x-python",
   "name": "python",
   "nbconvert_exporter": "python",
   "pygments_lexer": "ipython3",
   "version": "3.12.2"
  }
 },
 "nbformat": 4,
 "nbformat_minor": 4
}
